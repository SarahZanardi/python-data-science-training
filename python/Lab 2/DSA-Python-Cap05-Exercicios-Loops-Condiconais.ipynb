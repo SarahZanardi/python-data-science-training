{
 "cells": [
  {
   "cell_type": "markdown",
   "metadata": {},
   "source": [
    "# <font color='blue'>Data Science Academy</font>\n",
    "\n",
    "## <font color='blue'>Fundamentos de Linguagem Python Para Análise de Dados e Data Science</font>\n",
    "\n",
    "## <font color='blue'>Capítulo 5 - Exercícios de Loops e Condicionais</font>"
   ]
  },
  {
   "cell_type": "code",
   "execution_count": 4,
   "metadata": {},
   "outputs": [
    {
     "name": "stdout",
     "output_type": "stream",
     "text": [
      "Versão da Linguagem Python Usada Neste Jupyter Notebook: 3.12.7\n"
     ]
    }
   ],
   "source": [
    "# Versão da Linguagem Python\n",
    "from platform import python_version\n",
    "print('Versão da Linguagem Python Usada Neste Jupyter Notebook:', python_version())"
   ]
  },
  {
   "cell_type": "markdown",
   "metadata": {},
   "source": [
    "## Exercícios - Loops e Condiconais"
   ]
  },
  {
   "cell_type": "code",
   "execution_count": 5,
   "metadata": {},
   "outputs": [
    {
     "name": "stdout",
     "output_type": "stream",
     "text": [
      "Você precisa trabalhar!\n"
     ]
    }
   ],
   "source": [
    "# Exercício 1 - Crie uma estrutura que pergunte ao usuário qual o dia da semana. Se o dia for igual a Domingo ou \n",
    "# igual a sábado, imprima na tela \"Hoje é dia de descanso\", caso contrário imprima na tela \"Você precisa trabalhar!\"\n",
    "# Exercício 1\n",
    "\n",
    "# Pergunta ao usuário o dia da semana\n",
    "dia = input(\"Qual é o dia da semana? \").strip().lower()\n",
    "\n",
    "# Verifica se é sábado ou domingo\n",
    "if dia == \"sábado\" or dia == \"sabado\" or dia == \"domingo\":\n",
    "    print(\"Hoje é dia de descanso\")\n",
    "else:\n",
    "    print(\"Você precisa trabalhar!\")\n"
   ]
  },
  {
   "cell_type": "code",
   "execution_count": 19,
   "metadata": {},
   "outputs": [
    {
     "name": "stdout",
     "output_type": "stream",
     "text": [
      "Morango está na lista!\n"
     ]
    }
   ],
   "source": [
    "# Exercício 2 - Crie uma lista de 5 frutas e verifique se a fruta 'Morango' faz parte da lista\n",
    "\n",
    "# Exercício 2 - Crie uma lista de 5 frutas e verifique se a fruta 'Morango' faz parte da lista\n",
    "\n",
    "# Cria a lista de frutas\n",
    "frutas = [\"maçã\", \"banana\", \"laranja\", \"morango\", \"uva\"]\n",
    "\n",
    "# Verifica se 'morango' está na lista\n",
    "if \"morango\" in frutas:\n",
    "    print(\"Morango está na lista!\")\n",
    "else:\n",
    "    print(\"Morango não está na lista.\")\n"
   ]
  },
  {
   "cell_type": "code",
   "execution_count": 14,
   "metadata": {},
   "outputs": [
    {
     "name": "stdout",
     "output_type": "stream",
     "text": [
      "[4, 8, 12, 16]\n"
     ]
    }
   ],
   "source": [
    "# Exercício 3 - Crie uma tupla de 4 elementos, multiplique cada elemento da tupla por 2 e guarde os resultados em uma \n",
    "# lista\n",
    "\n",
    "# Cria uma tupla com 4 elementos\n",
    "tupla = (2, 4, 6, 8)\n",
    "\n",
    "# Cria uma lista multiplicando cada elemento da tupla por 2\n",
    "lista = [elemento * 2 for elemento in tupla]\n",
    "\n",
    "# Exibe o resultado\n",
    "print(lista)\n"
   ]
  },
  {
   "cell_type": "code",
   "execution_count": 20,
   "metadata": {},
   "outputs": [
    {
     "name": "stdout",
     "output_type": "stream",
     "text": [
      "[100, 102, 104, 106, 108, 110, 112, 114, 116, 118, 120, 122, 124, 126, 128, 130, 132, 134, 136, 138, 140, 142, 144, 146, 148, 150]\n"
     ]
    }
   ],
   "source": [
    "# Exercício 4 - Crie uma sequência de números pares entre 100 e 150 e imprima na tela\n",
    "#Cria a sequência de números pares entre 100 e 150\n",
    "pares = list(range(100, 151, 2))\n",
    "\n",
    "# Imprime a sequência\n",
    "print(pares)"
   ]
  },
  {
   "cell_type": "code",
   "execution_count": 22,
   "metadata": {},
   "outputs": [
    {
     "name": "stdout",
     "output_type": "stream",
     "text": [
      "Temperatura: 40°\n",
      "Temperatura: 39°\n",
      "Temperatura: 38°\n",
      "Temperatura: 37°\n",
      "Temperatura: 36°\n"
     ]
    }
   ],
   "source": [
    "# Exercício 5 - Crie uma variável chamada temperatura e atribua o valor 40. Enquanto temperatura for maior que 35, \n",
    "# imprima as temperaturas na tela\n",
    "\n",
    "# Exercício 5\n",
    "\n",
    "# Cria a variável temperatura\n",
    "temperatura = 40\n",
    "\n",
    "# Enquanto a temperatura for maior que 35, imprime e diminui 1 grau\n",
    "while temperatura > 35:\n",
    "    print(f\"Temperatura: {temperatura}°\")\n",
    "    temperatura -= 1  # diminui 1 a cada repetição\n"
   ]
  },
  {
   "cell_type": "code",
   "execution_count": 23,
   "metadata": {},
   "outputs": [
    {
     "name": "stdout",
     "output_type": "stream",
     "text": [
      "0\n",
      "1\n",
      "2\n",
      "3\n",
      "4\n",
      "5\n",
      "6\n",
      "7\n",
      "8\n",
      "9\n",
      "10\n",
      "11\n",
      "12\n",
      "13\n",
      "14\n",
      "15\n",
      "16\n",
      "17\n",
      "18\n",
      "19\n",
      "20\n",
      "21\n",
      "22\n",
      "23\n",
      "Valor 23 encontrado. Interrompendo a execução.\n"
     ]
    }
   ],
   "source": [
    "# Exercício 6 - Crie uma variável chamada contador = 0. Enquanto counter for menor que 100, imprima os valores na tela,\n",
    "# mas quando for encontrado o valor 23, interrompa a execução do programa\n",
    "\n",
    "# Exercício 6\n",
    "\n",
    "# Cria a variável contador\n",
    "contador = 0\n",
    "\n",
    "# Enquanto contador for menor que 100\n",
    "while contador < 100:\n",
    "    print(contador)\n",
    "    \n",
    "    # Verifica se o contador chegou em 23\n",
    "    if contador == 23:\n",
    "        print(\"Valor 23 encontrado. Interrompendo a execução.\")\n",
    "        break  # Interrompe o loop\n",
    "    \n",
    "    contador += 1  # Incrementa o contador\n"
   ]
  },
  {
   "cell_type": "code",
   "execution_count": null,
   "metadata": {},
   "outputs": [],
   "source": [
    "# Exercício 7 - Crie uma lista vazia e uma variável com valor 4. Enquanto o valor da variável for menor ou igual a 20, \n",
    "# adicione à lista, apenas os valores pares e imprima a lista\n",
    "# Exercício 7\n",
    "\n",
    "# Cria uma lista vazia\n",
    "lista = []\n",
    "\n",
    "# Cria a variável com valor 4\n",
    "valor = 4\n",
    "\n",
    "# Enquanto o valor for menor ou igual a 20\n",
    "while valor <= 20:\n",
    "    # Verifica se o valor é par\n",
    "    if valor % 2 == 0:\n",
    "        lista.append(valor)  # A\n"
   ]
  },
  {
   "cell_type": "code",
   "execution_count": 21,
   "metadata": {},
   "outputs": [],
   "source": [
    "# Exercício 8 - Transforme o resultado desta função range em uma lista: range(5, 45, 2)\n",
    "nums = range(5, 45, 2)"
   ]
  },
  {
   "cell_type": "code",
   "execution_count": null,
   "metadata": {},
   "outputs": [
    {
     "ename": "SyntaxError",
     "evalue": "expected ':' (1070217597.py, line 3)",
     "output_type": "error",
     "traceback": [
      "\u001b[1;36m  Cell \u001b[1;32mIn[13], line 3\u001b[1;36m\u001b[0m\n\u001b[1;33m    if temperatura > 30\u001b[0m\n\u001b[1;37m                       ^\u001b[0m\n\u001b[1;31mSyntaxError\u001b[0m\u001b[1;31m:\u001b[0m expected ':'\n"
     ]
    }
   ],
   "source": [
    "# Exercício 9\n",
    "\n",
    "temperatura = float(input('Qual a temperatura? '))\n",
    "\n",
    "if temperatura > 30:\n",
    "    print('Vista roupas leves.')\n",
    "else:\n",
    "    print('Busque seus casacos.')\n"
   ]
  },
  {
   "cell_type": "code",
   "execution_count": null,
   "metadata": {},
   "outputs": [],
   "source": [
    "# Exercício 10\n",
    "\n",
    "frase = \"A gratidão é a virtude das almas nobres. O quão feliz é uma pessoa depende da profundidade de sua gratidão.\"\n",
    "\n",
    "# Conta quantas vezes a letra \"r\" aparece (tanto maiúscula quanto minúscula)\n",
    "contador_r = frase.lower().count('r')\n",
    "\n",
    "# Imprime o resultado usando placeholder\n",
    "print(\"A letra 'r' aparece {} vezes na frase.\".format(contador_r))\n"
   ]
  },
  {
   "cell_type": "markdown",
   "metadata": {},
   "source": [
    "# Fim"
   ]
  },
  {
   "cell_type": "markdown",
   "metadata": {},
   "source": [
    "### Obrigado\n",
    "\n",
    "### Visite o Blog da Data Science Academy - <a href=\"http://blog.dsacademy.com.br\">Blog DSA</a>"
   ]
  }
 ],
 "metadata": {
  "kernelspec": {
   "display_name": "base",
   "language": "python",
   "name": "python3"
  },
  "language_info": {
   "codemirror_mode": {
    "name": "ipython",
    "version": 3
   },
   "file_extension": ".py",
   "mimetype": "text/x-python",
   "name": "python",
   "nbconvert_exporter": "python",
   "pygments_lexer": "ipython3",
   "version": "3.12.7"
  }
 },
 "nbformat": 4,
 "nbformat_minor": 1
}
